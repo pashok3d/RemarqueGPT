{
  "cells": [
    {
      "cell_type": "markdown",
      "metadata": {
        "id": "view-in-github",
        "colab_type": "text"
      },
      "source": [
        "<a href=\"https://colab.research.google.com/github/pashok3d/RemarqueGPT/blob/main/RemarqueGPT.ipynb\" target=\"_parent\"><img src=\"https://colab.research.google.com/assets/colab-badge.svg\" alt=\"Open In Colab\"/></a>"
      ]
    },
    {
      "cell_type": "code",
      "execution_count": 1,
      "metadata": {
        "id": "sOv4_JlEx_Do",
        "colab": {
          "base_uri": "https://localhost:8080/",
          "height": 73
        },
        "outputId": "2616b277-81f9-440e-9de5-12ed2043c928"
      },
      "outputs": [
        {
          "output_type": "execute_result",
          "data": {
            "text/plain": [
              "'\\nBuilding GPT from scratch and training it on all books of Erich Maria Remarque\\n\\nAvailable tools: python, pytorch\\n\\nTasks:\\n1. Load data and tokenize to characters\\n2. Implement GPT model using pytorch\\n3. Train and evaluate the model\\n\\nGPT model structure:\\n1. embedding layer\\n2. positional encoding\\n3. blocks\\n    .1 attention\\n    .2 feedforward\\n4. projection\\n'"
            ],
            "application/vnd.google.colaboratory.intrinsic+json": {
              "type": "string"
            }
          },
          "metadata": {},
          "execution_count": 1
        }
      ],
      "source": [
        "\"\"\"\n",
        "Building GPT from scratch and training it on all books of Erich Maria Remarque\n",
        "\"\"\""
      ]
    },
    {
      "cell_type": "code",
      "execution_count": 2,
      "metadata": {
        "id": "q58f3NJEEW59"
      },
      "outputs": [],
      "source": [
        "!pip install tqdm -q\n",
        "!pip install wandb -q\n",
        "!pip install tiktoken -q"
      ]
    },
    {
      "cell_type": "code",
      "execution_count": 3,
      "metadata": {
        "id": "VblH5Otza11y"
      },
      "outputs": [],
      "source": [
        "!mkdir dataset\n",
        "!mkdir model"
      ]
    },
    {
      "cell_type": "code",
      "execution_count": 4,
      "metadata": {
        "id": "e2yGAjdBx_Dq"
      },
      "outputs": [],
      "source": [
        "import wandb\n",
        "import tiktoken\n",
        "import torch\n",
        "import math\n",
        "from torch.utils.data import DataLoader\n",
        "from tqdm import tqdm\n",
        "from torch.utils.data import ConcatDataset, Dataset\n",
        "from torch import nn\n",
        "import math\n",
        "from transformers import get_linear_schedule_with_warmup"
      ]
    },
    {
      "cell_type": "code",
      "execution_count": 5,
      "metadata": {
        "id": "6_8wJTDqx_Dq",
        "colab": {
          "base_uri": "https://localhost:8080/",
          "height": 145
        },
        "outputId": "1b1e62e4-6202-482c-beb6-0dd855ff8ac4"
      },
      "outputs": [
        {
          "output_type": "stream",
          "name": "stderr",
          "text": [
            "\u001b[34m\u001b[1mwandb\u001b[0m: Using wandb-core as the SDK backend.  Please refer to https://wandb.me/wandb-core for more information.\n"
          ]
        },
        {
          "output_type": "display_data",
          "data": {
            "text/plain": [
              "<IPython.core.display.Javascript object>"
            ],
            "application/javascript": [
              "\n",
              "        window._wandbApiKey = new Promise((resolve, reject) => {\n",
              "            function loadScript(url) {\n",
              "            return new Promise(function(resolve, reject) {\n",
              "                let newScript = document.createElement(\"script\");\n",
              "                newScript.onerror = reject;\n",
              "                newScript.onload = resolve;\n",
              "                document.body.appendChild(newScript);\n",
              "                newScript.src = url;\n",
              "            });\n",
              "            }\n",
              "            loadScript(\"https://cdn.jsdelivr.net/npm/postmate/build/postmate.min.js\").then(() => {\n",
              "            const iframe = document.createElement('iframe')\n",
              "            iframe.style.cssText = \"width:0;height:0;border:none\"\n",
              "            document.body.appendChild(iframe)\n",
              "            const handshake = new Postmate({\n",
              "                container: iframe,\n",
              "                url: 'https://wandb.ai/authorize'\n",
              "            });\n",
              "            const timeout = setTimeout(() => reject(\"Couldn't auto authenticate\"), 5000)\n",
              "            handshake.then(function(child) {\n",
              "                child.on('authorize', data => {\n",
              "                    clearTimeout(timeout)\n",
              "                    resolve(data)\n",
              "                });\n",
              "            });\n",
              "            })\n",
              "        });\n",
              "    "
            ]
          },
          "metadata": {}
        },
        {
          "output_type": "stream",
          "name": "stderr",
          "text": [
            "\u001b[34m\u001b[1mwandb\u001b[0m: Logging into wandb.ai. (Learn how to deploy a W&B server locally: https://wandb.me/wandb-server)\n",
            "\u001b[34m\u001b[1mwandb\u001b[0m: You can find your API key in your browser here: https://wandb.ai/authorize\n",
            "wandb: Paste an API key from your profile and hit enter, or press ctrl+c to quit:"
          ]
        },
        {
          "name": "stdout",
          "output_type": "stream",
          "text": [
            " ··········\n"
          ]
        },
        {
          "output_type": "stream",
          "name": "stderr",
          "text": [
            "\u001b[34m\u001b[1mwandb\u001b[0m: Appending key for api.wandb.ai to your netrc file: /root/.netrc\n"
          ]
        },
        {
          "output_type": "execute_result",
          "data": {
            "text/plain": [
              "True"
            ]
          },
          "metadata": {},
          "execution_count": 5
        }
      ],
      "source": [
        "wandb.login()"
      ]
    },
    {
      "cell_type": "code",
      "execution_count": 6,
      "metadata": {
        "id": "oVQJ4af2hixP"
      },
      "outputs": [],
      "source": [
        "WINDOW_SIZE = 128\n",
        "BATCH_SIZE = 256\n",
        "EPOCHS = 10\n",
        "LR = 3e-4\n",
        "EMBEDDING_DIM = 256\n",
        "BLOCKS_NUM = 8\n",
        "HEADS_NUM = 8\n",
        "DROPOUT = 0.1\n",
        "\n",
        "\n",
        "device = \"cuda\" if torch.cuda.is_available() else \"cpu\"\n",
        "\n",
        "config = {\n",
        "    \"learning_rate\": LR,\n",
        "    \"epochs\": EPOCHS,\n",
        "    \"batch_size\": BATCH_SIZE,\n",
        "    \"window_size\": WINDOW_SIZE,\n",
        "    \"embedding_dim\": EMBEDDING_DIM,\n",
        "    \"blocks_num\": BLOCKS_NUM,\n",
        "    \"heads_num\": HEADS_NUM,\n",
        "    \"dropout\": DROPOUT,\n",
        "}"
      ]
    },
    {
      "cell_type": "code",
      "execution_count": 7,
      "metadata": {
        "id": "JyE91wOu52hG",
        "colab": {
          "base_uri": "https://localhost:8080/",
          "height": 123
        },
        "outputId": "63347136-567b-415f-8c7d-20c9ba32c64b"
      },
      "outputs": [
        {
          "output_type": "stream",
          "name": "stderr",
          "text": [
            "\u001b[34m\u001b[1mwandb\u001b[0m: Currently logged in as: \u001b[33mcrush_tarash\u001b[0m. Use \u001b[1m`wandb login --relogin`\u001b[0m to force relogin\n"
          ]
        },
        {
          "output_type": "display_data",
          "data": {
            "text/plain": [
              "<IPython.core.display.HTML object>"
            ],
            "text/html": [
              "Tracking run with wandb version 0.19.1"
            ]
          },
          "metadata": {}
        },
        {
          "output_type": "display_data",
          "data": {
            "text/plain": [
              "<IPython.core.display.HTML object>"
            ],
            "text/html": [
              "Run data is saved locally in <code>/content/wandb/run-20250110_125404-xeorumyz</code>"
            ]
          },
          "metadata": {}
        },
        {
          "output_type": "display_data",
          "data": {
            "text/plain": [
              "<IPython.core.display.HTML object>"
            ],
            "text/html": [
              "Syncing run <strong><a href='https://wandb.ai/crush_tarash/remark-gpt/runs/xeorumyz' target=\"_blank\">dark-monkey-22</a></strong> to <a href='https://wandb.ai/crush_tarash/remark-gpt' target=\"_blank\">Weights & Biases</a> (<a href='https://wandb.me/developer-guide' target=\"_blank\">docs</a>)<br>"
            ]
          },
          "metadata": {}
        },
        {
          "output_type": "display_data",
          "data": {
            "text/plain": [
              "<IPython.core.display.HTML object>"
            ],
            "text/html": [
              " View project at <a href='https://wandb.ai/crush_tarash/remark-gpt' target=\"_blank\">https://wandb.ai/crush_tarash/remark-gpt</a>"
            ]
          },
          "metadata": {}
        },
        {
          "output_type": "display_data",
          "data": {
            "text/plain": [
              "<IPython.core.display.HTML object>"
            ],
            "text/html": [
              " View run at <a href='https://wandb.ai/crush_tarash/remark-gpt/runs/xeorumyz' target=\"_blank\">https://wandb.ai/crush_tarash/remark-gpt/runs/xeorumyz</a>"
            ]
          },
          "metadata": {}
        }
      ],
      "source": [
        "run = wandb.init(project=\"remark-gpt\", config=config)"
      ]
    },
    {
      "cell_type": "code",
      "execution_count": null,
      "metadata": {},
      "outputs": [],
      "source": [
        "class Tokenizer:\n",
        "    def __init__(self, encoding):\n",
        "        self.encoding = encoding\n",
        "        self._is_fit = False\n",
        "\n",
        "    @property\n",
        "    def vocab_size(self):\n",
        "        if not self._is_fit:\n",
        "            raise Exception(\"Tokenizer not fitted yet. Call fit() method first.\")\n",
        "\n",
        "        return len(self.id_to_token)\n",
        "\n",
        "    def dump(self, path: str):\n",
        "        if not self._is_fit:\n",
        "            raise Exception(\"Tokenizer not fitted yet. Call fit() method first.\")\n",
        "\n",
        "        with open(path, \"w\") as f:\n",
        "            for id, tik_token in self.id_to_tik_token.items():\n",
        "                f.write(f\"{id}\\t{tik_token}\\t{self.encoding.decode([tik_token])}\\n\")\n",
        "\n",
        "    def fit(self, text: str) -> None:\n",
        "        tik_tokens = self.encoding.encode_ordinary(text)\n",
        "        tik_tokens = set(tik_tokens)\n",
        "\n",
        "        # Map local tokens to tiktoken tokens\n",
        "        self.id_to_tik_token = {\n",
        "            i: tiktok_token for i, tiktok_token in enumerate(tik_tokens)\n",
        "        }\n",
        "        # Map tiktoken tokens to local tokens\n",
        "        self.tik_token_to_id = {\n",
        "            tiktok_token: i for i, tiktok_token in enumerate(tik_tokens)\n",
        "        }\n",
        "\n",
        "        self._is_fit = True\n",
        "\n",
        "    def encode(self, text: str):\n",
        "        if not self._is_fit:\n",
        "            raise Exception(\"Tokenizer not fitted yet. Call fit() method first.\")\n",
        "\n",
        "        # Encode text\n",
        "        tik_tokens = self.encoding.encode_ordinary(text)\n",
        "\n",
        "        # Map tiktoken tokens to local tokens\n",
        "        token_ids = [self.tik_token_to_id[token] for token in tik_tokens]\n",
        "\n",
        "        return token_ids\n",
        "\n",
        "    def decode(self, token_ids: list[int]):\n",
        "        if not self._is_fit:\n",
        "            raise Exception(\"Tokenizer not fitted yet. Call fit() method first.\")\n",
        "\n",
        "        # Map local tokens to tiktoken tokens\n",
        "        tik_tokens = [self.id_to_tik_token[token_id] for token_id in token_ids]\n",
        "\n",
        "        # Decode tokens\n",
        "        return self.encoding.decode(tik_tokens)\n"
      ]
    },
    {
      "cell_type": "code",
      "execution_count": 9,
      "metadata": {
        "id": "jN-m4tUlZLl2"
      },
      "outputs": [],
      "source": [
        "def generate_text(\n",
        "    model,\n",
        "    tokenizer: Tokenizer,\n",
        "    prompt: str,\n",
        "    device: str,\n",
        "    window_size: int,\n",
        "    max_tokens: int = 10,\n",
        "    temperature: float = 1.0,\n",
        ") -> str:\n",
        "    \"\"\"Generate text using the trained GPT model.\"\"\"\n",
        "    model.eval()\n",
        "    context = tokenizer.encode(prompt)\n",
        "    generated = list(context)\n",
        "\n",
        "    with torch.no_grad():\n",
        "        for _ in range(max_tokens):\n",
        "            x = torch.tensor(context[-window_size:]).unsqueeze(0).to(device)\n",
        "            logits, _ = model(x)\n",
        "            logits = logits[0, -1, :] / temperature\n",
        "            probs = torch.softmax(logits, dim=-1)\n",
        "            next_token = torch.multinomial(probs, num_samples=1).item()\n",
        "            generated.append(next_token)\n",
        "            context = generated\n",
        "\n",
        "    return tokenizer.decode(generated)\n",
        "\n",
        "\n",
        "class TextDataset(Dataset):\n",
        "    def __init__(self, path, context_window_size, tokenizer: Tokenizer):\n",
        "        # Load dataset\n",
        "        with open(path, \"r\") as f:\n",
        "            lines = f.readlines()\n",
        "\n",
        "        text = \"\\n\".join(lines)\n",
        "\n",
        "        self.tokens = tokenizer.encode(text)\n",
        "\n",
        "        self.x = []\n",
        "        self.y = []\n",
        "        for i in range(len(self.tokens) - context_window_size):\n",
        "            self.x.append(self.tokens[i : i + context_window_size])\n",
        "            self.y.append(self.tokens[i + 1 : i + context_window_size + 1])\n",
        "\n",
        "    def __len__(self):\n",
        "        return len(self.x)\n",
        "\n",
        "    def __getitem__(self, idx):\n",
        "        return torch.tensor(self.x[idx]), torch.tensor(self.y[idx])\n",
        "\n",
        "\n",
        "def get_datasets(paths, context_window_size, tokenizer: Tokenizer):\n",
        "    datasets = []\n",
        "\n",
        "    for path in paths:\n",
        "        dataset = TextDataset(path, context_window_size, tokenizer)\n",
        "        datasets.append(dataset)\n",
        "\n",
        "    return datasets\n"
      ]
    },
    {
      "cell_type": "code",
      "execution_count": 15,
      "metadata": {
        "id": "1cqziIlWJvDS"
      },
      "outputs": [],
      "source": [
        "# Prepare tokenizer\n",
        "enc = tiktoken.get_encoding(\"o200k_base\")\n",
        "tokenizer = Tokenizer(enc)\n",
        "\n",
        "dataset_lines = []\n",
        "\n",
        "dataset_paths = [\n",
        "    \"dataset/All_Quiet_on_the_Western_Front_1929_AST_978-5-17-105639-1.txt\",\n",
        "    \"dataset/All_Quiet_on_the_Western_Front_1929_AST_978-5-17-137374-0.txt\",\n",
        "    \"dataset/Station_at_the_Horizon_1928_AST_978-5-17-133322-5.txt\",\n",
        "    \"dataset/The_Dream_Room_1920_AST_978-5-17-071518-3.txt\",\n",
        "    \"dataset/The_Road_Back_1931.txt\",\n",
        "    \"dataset/Tree_Comrades_1936_978-5-17-004252-4.txt\",\n",
        "    \"dataset/Tree_Comrades_1936_978-5-17-056963-2.txt\",\n",
        "    \"dataset/Tree_Comrades_1936_978-5-17-108545-2.txt\"\n",
        "]\n",
        "\n",
        "for path in dataset_paths:\n",
        "    with open(path, \"r\") as f:\n",
        "        dataset_lines.extend(f.readlines())\n",
        "\n",
        "text = \"\\n\".join(dataset_lines)\n",
        "tokenizer.fit(text)\n",
        "tokenizer.dump(\"tokenizer.txt\")\n",
        "\n",
        "ds_list = get_datasets(\n",
        "    [ds_path.replace(\".txt\", \"-train.txt\") for ds_path in dataset_paths],\n",
        "    WINDOW_SIZE,\n",
        "    tokenizer,\n",
        ")\n",
        "\n",
        "train_ds = ConcatDataset(ds_list)\n",
        "train_dataloader = DataLoader(train_ds, batch_size=BATCH_SIZE, shuffle=True)\n",
        "\n",
        "dev_dataset_paths = [ds_path.replace(\".txt\", \"-dev.txt\") for ds_path in dataset_paths],\n",
        "\n",
        "dev_ds_list = get_datasets(\n",
        "dev_dataset_paths,\n",
        "    WINDOW_SIZE,\n",
        "    tokenizer,\n",
        ")\n",
        "\n",
        "names_with_dev_dataloaders = []\n",
        "\n",
        "for i, dev_ds in enumerate(dev_ds_list):\n",
        "    dev_dataloader = DataLoader(dev_ds, batch_size=BATCH_SIZE, shuffle=False)\n",
        "    names_with_dev_dataloaders.append(\n",
        "        (dev_dataset_paths[i].replace(\"dataset/\", \"\").replace(\".txt\", \"\"), dev_dataloader)\n",
        "    )"
      ]
    },
    {
      "cell_type": "code",
      "execution_count": 16,
      "metadata": {
        "cellView": "form",
        "id": "hF-56wiUZteN"
      },
      "outputs": [],
      "source": [
        "class AttentionHead(nn.Module):\n",
        "    def __init__(self, embedding_dim, head_dim, dropout, max_len):\n",
        "        super().__init__()\n",
        "\n",
        "        self.Q = nn.Linear(embedding_dim, head_dim, bias=False)\n",
        "        self.K = nn.Linear(embedding_dim, head_dim, bias=False)\n",
        "        self.V = nn.Linear(embedding_dim, head_dim, bias=False)\n",
        "\n",
        "        self.kv_softmax = nn.Softmax(dim=-1)\n",
        "        self.attn_dropout = nn.Dropout(dropout)\n",
        "\n",
        "        self.register_buffer(\"tril\", torch.tril(torch.ones(max_len, max_len)))\n",
        "\n",
        "    def forward(self, norm_inputs):\n",
        "\n",
        "        _, T, _ = norm_inputs.shape\n",
        "\n",
        "        q = self.Q(norm_inputs)\n",
        "        k = self.K(norm_inputs)\n",
        "        v = self.V(norm_inputs)\n",
        "\n",
        "        attention_weights = (q @ k.transpose(-1, -2)) / math.sqrt(\n",
        "            q.shape[-1]\n",
        "        )  # shape: (B, T, T)\n",
        "        attention_weights_masked = attention_weights.masked_fill(\n",
        "            self.tril[:T, :T] == 0, -torch.inf\n",
        "        )\n",
        "        attention_scores = self.kv_softmax(attention_weights_masked)\n",
        "        attention_scores = self.attn_dropout(attention_scores)\n",
        "\n",
        "        return attention_scores @ v\n",
        "\n",
        "\n",
        "class GPTBlock(nn.Module):\n",
        "    def __init__(\n",
        "        self, embedding_dim: int, max_len: int, dropout: float = 0.1, n_heads=2\n",
        "    ):\n",
        "        super().__init__()\n",
        "        head_dim = embedding_dim // n_heads\n",
        "\n",
        "        # Attention heads\n",
        "        self.heads = nn.ModuleList(\n",
        "            [\n",
        "                AttentionHead(embedding_dim, head_dim, dropout, max_len)\n",
        "                for _ in range(n_heads)\n",
        "            ]\n",
        "        )\n",
        "\n",
        "        # Feedforward\n",
        "        self.f1 = nn.Linear(embedding_dim, embedding_dim * 4)\n",
        "        self.f_act = nn.ReLU()\n",
        "        self.f2 = nn.Linear(embedding_dim * 4, embedding_dim)\n",
        "        self.ff_dropout = nn.Dropout(dropout)\n",
        "\n",
        "        self.ln1 = nn.LayerNorm(embedding_dim)\n",
        "        self.ln2 = nn.LayerNorm(embedding_dim)\n",
        "\n",
        "    def forward(self, inputs):\n",
        "        norm_inputs = self.ln1(inputs)\n",
        "        attn_out = torch.concat([h(norm_inputs) for h in self.heads], dim=-1)\n",
        "\n",
        "        # Add residual connection\n",
        "        x = inputs + attn_out\n",
        "\n",
        "        norm_x = self.ln2(x)\n",
        "        ff_out = self.ff_dropout(self.f2(self.f_act(self.f1(norm_x))))\n",
        "        out = x + ff_out\n",
        "        return out\n",
        "\n",
        "\n",
        "class GPT(nn.Module):\n",
        "    def __init__(\n",
        "        self,\n",
        "        vocab_size: int,\n",
        "        max_len: int,\n",
        "        embedding_dim: int = 16,\n",
        "        blocks_num: int = 4,\n",
        "        n_heads: int = 2,\n",
        "        dropout: float = 0.1,\n",
        "    ):\n",
        "        super().__init__()\n",
        "        self.vocab_size = vocab_size\n",
        "        self.embedding_dim = embedding_dim\n",
        "        self.emb = nn.Embedding(vocab_size, embedding_dim)\n",
        "        self.pos = nn.Embedding(max_len, embedding_dim)\n",
        "        self.blocks = nn.Sequential(\n",
        "            *[\n",
        "                GPTBlock(embedding_dim, max_len, dropout, n_heads)\n",
        "                for _ in range(blocks_num)\n",
        "            ]\n",
        "        )\n",
        "        self.proj = nn.Linear(embedding_dim, vocab_size)\n",
        "        self.loss_fn = nn.CrossEntropyLoss()\n",
        "\n",
        "    def forward(self, inputs, labels=None):\n",
        "        _, T = inputs.shape\n",
        "        embs = self.emb(inputs)\n",
        "        pos_embs = self.pos(torch.arange(T, device=inputs.device))  # (T,C)\n",
        "        blocks_output = self.blocks(embs + pos_embs)\n",
        "        logits = self.proj(blocks_output)  # (B,T,vocab_size)\n",
        "        if labels is not None:\n",
        "            loss = self.loss_fn(logits.view(-1, self.vocab_size), labels.view(-1))\n",
        "            return logits, loss\n",
        "        else:\n",
        "            return logits, None\n"
      ]
    },
    {
      "cell_type": "code",
      "execution_count": 17,
      "metadata": {
        "id": "pnf4aP9ywkjD"
      },
      "outputs": [],
      "source": [
        "model = GPT(vocab_size=tokenizer.vocab_size, max_len=WINDOW_SIZE, embedding_dim=EMBEDDING_DIM, blocks_num=BLOCKS_NUM, n_heads=HEADS_NUM, dropout=DROPOUT)\n",
        "model.to(device)\n",
        "\n",
        "optimizer = torch.optim.AdamW(model.parameters(), lr=LR)\n",
        "\n",
        "# Scheduler with warmup and linear decay\n",
        "TOTAL_STEPS = EPOCHS * len(train_dataloader)\n",
        "WARMUP_STEPS = int(0.1 * TOTAL_STEPS)  # 10% warmup\n",
        "\n",
        "scheduler = get_linear_schedule_with_warmup(optimizer, num_warmup_steps=WARMUP_STEPS, num_training_steps=TOTAL_STEPS)"
      ]
    },
    {
      "cell_type": "code",
      "execution_count": 18,
      "metadata": {
        "id": "HOZUqcOnwlIy"
      },
      "outputs": [],
      "source": [
        "wandb.watch(model, log_freq=2500, log='all')"
      ]
    },
    {
      "cell_type": "code",
      "execution_count": null,
      "metadata": {
        "id": "uSeQTdOowrhS"
      },
      "outputs": [],
      "source": [
        "model.train()\n",
        "epoch_loss = 0\n",
        "steps_n = 0\n",
        "with torch.no_grad():\n",
        "    for batch in tqdm(train_dataloader):\n",
        "        input, labels = batch[0].to(device), batch[1].to(device)\n",
        "        output, loss = model(input, labels)\n",
        "        epoch_loss += loss.item()\n",
        "        steps_n += 1\n",
        "    avg_loss = epoch_loss / steps_n\n",
        "expected_init_loss = -math.log(1 / tokenizer.vocab_size)\n",
        "print(f\"initial train loss: {avg_loss:.3f}, with expected of {expected_init_loss:.3f}\")"
      ]
    },
    {
      "cell_type": "code",
      "execution_count": null,
      "metadata": {
        "colab": {
          "base_uri": "https://localhost:8080/",
          "height": 1000
        },
        "id": "fC3-JgvRwhxz",
        "outputId": "7f184198-a80b-4b8f-f34e-c7ad6c655bb8"
      },
      "outputs": [],
      "source": [
        "for epoch in range(EPOCHS):\n",
        "    model.train()\n",
        "    epoch_loss = 0\n",
        "    steps_n = 0\n",
        "\n",
        "    for batch in tqdm(train_dataloader):\n",
        "        input, labels = batch[0].to(device), batch[1].to(device)\n",
        "        output, loss = model(input, labels)\n",
        "        loss.backward()\n",
        "        optimizer.step()\n",
        "        scheduler.step()  # Update the learning rate\n",
        "        optimizer.zero_grad()\n",
        "        epoch_loss += loss.item()\n",
        "        steps_n += 1\n",
        "        run.log({\"train_loss\": loss.item(), \"lr\": scheduler.get_last_lr()[0]})\n",
        "\n",
        "    avg_loss = epoch_loss / steps_n\n",
        "    print(f\"epoch {epoch} train loss: {avg_loss:.3f}\")\n",
        "\n",
        "    model.eval()\n",
        "    with torch.no_grad():\n",
        "        for ds_name, dev_dataloader in names_with_dev_dataloaders:\n",
        "            val_steps_n = 0\n",
        "            val_epoch_loss = 0\n",
        "            for batch in tqdm(dev_dataloader):\n",
        "                input, labels = batch[0].to(device), batch[1].to(device)\n",
        "                output, loss = model(input, labels)\n",
        "                val_epoch_loss += loss.item()\n",
        "                val_steps_n += 1\n",
        "            avg_val_loss = val_epoch_loss / val_steps_n\n",
        "            print(f\"epoch {epoch} val loss for {ds_name}: {avg_val_loss:.3f}\")\n",
        "            metric_name = f\"avg_val_loss_{ds_name}\"\n",
        "            run.log({metric_name: avg_val_loss}, commit=False)\n",
        "\n",
        "    run.log({\"avg_train_loss\": avg_loss})"
      ]
    },
    {
      "cell_type": "code",
      "execution_count": 20,
      "metadata": {
        "id": "e9eYiDoFRIou"
      },
      "outputs": [],
      "source": [
        "torch.save(model.state_dict(), \"model/gpt.pt\")"
      ]
    },
    {
      "cell_type": "code",
      "execution_count": 21,
      "metadata": {
        "id": "300VB3stx_Ds",
        "colab": {
          "base_uri": "https://localhost:8080/"
        },
        "outputId": "5425dc30-a0d9-43a9-f87a-913b0413fb4a"
      },
      "outputs": [
        {
          "output_type": "execute_result",
          "data": {
            "text/plain": [
              "<Artifact model>"
            ]
          },
          "metadata": {},
          "execution_count": 21
        }
      ],
      "source": [
        "artifact = wandb.Artifact(\"model\", type=\"model\")\n",
        "artifact.add_file(\"model/gpt.pt\")\n",
        "run.log_artifact(artifact)"
      ]
    },
    {
      "cell_type": "code",
      "execution_count": null,
      "metadata": {
        "colab": {
          "base_uri": "https://localhost:8080/",
          "height": 619
        },
        "id": "G5ytmLzkx_Ds",
        "outputId": "1b34dcb8-7677-494b-93c9-b5eef7a823dd"
      },
      "outputs": [],
      "source": [
        "wandb.finish()"
      ]
    },
    {
      "cell_type": "code",
      "execution_count": null,
      "metadata": {
        "colab": {
          "base_uri": "https://localhost:8080/"
        },
        "id": "vsBjFtlUx_Ds",
        "outputId": "a5f237e6-5e48-45bc-e123-60279ee7ff83"
      },
      "outputs": [],
      "source": [
        "model.eval()\n",
        "prompt = \"– Привет, любовь моя!\\n\"\n",
        "generated_text = generate_text(model, tokenizer, prompt, device, WINDOW_SIZE, max_tokens=100, temperature=0.7)"
      ]
    }
  ],
  "metadata": {
    "accelerator": "GPU",
    "colab": {
      "gpuType": "A100",
      "machine_shape": "hm",
      "provenance": [],
      "include_colab_link": true
    },
    "kernelspec": {
      "display_name": "Python 3",
      "name": "python3"
    },
    "language_info": {
      "name": "python"
    }
  },
  "nbformat": 4,
  "nbformat_minor": 0
}