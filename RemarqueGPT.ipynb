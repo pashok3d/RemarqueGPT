{
  "cells": [
    {
      "cell_type": "markdown",
      "metadata": {
        "id": "view-in-github",
        "colab_type": "text"
      },
      "source": [
        "<a href=\"https://colab.research.google.com/github/pashok3d/RemarqueGPT/blob/main/RemarqueGPT.ipynb\" target=\"_parent\"><img src=\"https://colab.research.google.com/assets/colab-badge.svg\" alt=\"Open In Colab\"/></a>"
      ]
    },
    {
      "cell_type": "code",
      "execution_count": 1,
      "metadata": {
        "id": "sOv4_JlEx_Do",
        "colab": {
          "base_uri": "https://localhost:8080/",
          "height": 75
        },
        "outputId": "f1b252f0-3783-462d-9625-6d177ab775e3"
      },
      "outputs": [
        {
          "output_type": "execute_result",
          "data": {
            "text/plain": [
              "'\\nBuilding GPT from scratch and training it on all books of Erich Maria Remarque\\n\\nAvailable tools: python, pytorch\\n\\nTasks:\\n1. Load data and tokenize to characters\\n2. Implement GPT model using pytorch\\n3. Train and evaluate the model\\n\\nGPT model structure:\\n1. embedding layer\\n2. positional encoding\\n3. blocks\\n    .1 attention\\n    .2 feedforward\\n4. projection\\n'"
            ],
            "application/vnd.google.colaboratory.intrinsic+json": {
              "type": "string"
            }
          },
          "metadata": {},
          "execution_count": 1
        }
      ],
      "source": [
        "\"\"\"\n",
        "Building GPT from scratch and training it on all books of Erich Maria Remarque\n",
        "\n",
        "Available tools: python, pytorch\n",
        "\n",
        "Tasks:\n",
        "1. Load data and tokenize to characters\n",
        "2. Implement GPT model using pytorch\n",
        "3. Train and evaluate the model\n",
        "\n",
        "GPT model structure:\n",
        "1. embedding layer\n",
        "2. positional encoding\n",
        "3. blocks\n",
        "    .1 attention\n",
        "    .2 feedforward\n",
        "4. projection\n",
        "\"\"\""
      ]
    },
    {
      "cell_type": "code",
      "execution_count": 2,
      "metadata": {
        "id": "q58f3NJEEW59"
      },
      "outputs": [],
      "source": [
        "!pip install tqdm -q\n",
        "!pip install wandb -q"
      ]
    },
    {
      "cell_type": "code",
      "execution_count": 3,
      "metadata": {
        "id": "VblH5Otza11y"
      },
      "outputs": [],
      "source": [
        "!mkdir dataset\n",
        "!mkdir model"
      ]
    },
    {
      "cell_type": "code",
      "execution_count": 4,
      "metadata": {
        "id": "e2yGAjdBx_Dq"
      },
      "outputs": [],
      "source": [
        "import wandb\n",
        "import torch\n",
        "import math\n",
        "from torch.utils.data import DataLoader\n",
        "from tqdm import tqdm\n",
        "from torch.utils.data import ConcatDataset, Dataset\n",
        "from torch import nn\n",
        "import math"
      ]
    },
    {
      "cell_type": "code",
      "execution_count": 5,
      "metadata": {
        "id": "6_8wJTDqx_Dq",
        "colab": {
          "base_uri": "https://localhost:8080/",
          "height": 144
        },
        "outputId": "29ac6935-27d0-4165-c09f-09b2b11ac79b"
      },
      "outputs": [
        {
          "output_type": "stream",
          "name": "stderr",
          "text": [
            "\u001b[34m\u001b[1mwandb\u001b[0m: Using wandb-core as the SDK backend.  Please refer to https://wandb.me/wandb-core for more information.\n"
          ]
        },
        {
          "output_type": "display_data",
          "data": {
            "text/plain": [
              "<IPython.core.display.Javascript object>"
            ],
            "application/javascript": [
              "\n",
              "        window._wandbApiKey = new Promise((resolve, reject) => {\n",
              "            function loadScript(url) {\n",
              "            return new Promise(function(resolve, reject) {\n",
              "                let newScript = document.createElement(\"script\");\n",
              "                newScript.onerror = reject;\n",
              "                newScript.onload = resolve;\n",
              "                document.body.appendChild(newScript);\n",
              "                newScript.src = url;\n",
              "            });\n",
              "            }\n",
              "            loadScript(\"https://cdn.jsdelivr.net/npm/postmate/build/postmate.min.js\").then(() => {\n",
              "            const iframe = document.createElement('iframe')\n",
              "            iframe.style.cssText = \"width:0;height:0;border:none\"\n",
              "            document.body.appendChild(iframe)\n",
              "            const handshake = new Postmate({\n",
              "                container: iframe,\n",
              "                url: 'https://wandb.ai/authorize'\n",
              "            });\n",
              "            const timeout = setTimeout(() => reject(\"Couldn't auto authenticate\"), 5000)\n",
              "            handshake.then(function(child) {\n",
              "                child.on('authorize', data => {\n",
              "                    clearTimeout(timeout)\n",
              "                    resolve(data)\n",
              "                });\n",
              "            });\n",
              "            })\n",
              "        });\n",
              "    "
            ]
          },
          "metadata": {}
        },
        {
          "output_type": "stream",
          "name": "stderr",
          "text": [
            "\u001b[34m\u001b[1mwandb\u001b[0m: Logging into wandb.ai. (Learn how to deploy a W&B server locally: https://wandb.me/wandb-server)\n",
            "\u001b[34m\u001b[1mwandb\u001b[0m: You can find your API key in your browser here: https://wandb.ai/authorize\n",
            "wandb: Paste an API key from your profile and hit enter, or press ctrl+c to quit:"
          ]
        },
        {
          "name": "stdout",
          "output_type": "stream",
          "text": [
            " ··········\n"
          ]
        },
        {
          "output_type": "stream",
          "name": "stderr",
          "text": [
            "\u001b[34m\u001b[1mwandb\u001b[0m: Appending key for api.wandb.ai to your netrc file: /root/.netrc\n"
          ]
        },
        {
          "output_type": "execute_result",
          "data": {
            "text/plain": [
              "True"
            ]
          },
          "metadata": {},
          "execution_count": 5
        }
      ],
      "source": [
        "wandb.login()"
      ]
    },
    {
      "cell_type": "code",
      "execution_count": 6,
      "metadata": {
        "id": "oVQJ4af2hixP"
      },
      "outputs": [],
      "source": [
        "WINDOW_SIZE = 64\n",
        "BATCH_SIZE = 64\n",
        "EPOCHS = 10\n",
        "LR = 5e-4\n",
        "\n",
        "device = \"cuda\" if torch.cuda.is_available() else \"cpu\"\n",
        "\n",
        "config = {\n",
        "    \"learning_rate\": LR,\n",
        "    \"epochs\": EPOCHS,\n",
        "    \"batch_size\": BATCH_SIZE,\n",
        "    \"window_size\": WINDOW_SIZE,\n",
        "}"
      ]
    },
    {
      "cell_type": "code",
      "execution_count": 7,
      "metadata": {
        "id": "JyE91wOu52hG",
        "colab": {
          "base_uri": "https://localhost:8080/",
          "height": 123
        },
        "outputId": "1f5bee1a-bc7a-49ab-9c03-5bdf430126db"
      },
      "outputs": [
        {
          "output_type": "stream",
          "name": "stderr",
          "text": [
            "\u001b[34m\u001b[1mwandb\u001b[0m: Currently logged in as: \u001b[33mcrush_tarash\u001b[0m. Use \u001b[1m`wandb login --relogin`\u001b[0m to force relogin\n"
          ]
        },
        {
          "output_type": "display_data",
          "data": {
            "text/plain": [
              "<IPython.core.display.HTML object>"
            ],
            "text/html": [
              "Tracking run with wandb version 0.19.1"
            ]
          },
          "metadata": {}
        },
        {
          "output_type": "display_data",
          "data": {
            "text/plain": [
              "<IPython.core.display.HTML object>"
            ],
            "text/html": [
              "Run data is saved locally in <code>/content/wandb/run-20250102_102313-wuf282la</code>"
            ]
          },
          "metadata": {}
        },
        {
          "output_type": "display_data",
          "data": {
            "text/plain": [
              "<IPython.core.display.HTML object>"
            ],
            "text/html": [
              "Syncing run <strong><a href='https://wandb.ai/crush_tarash/remark-gpt/runs/wuf282la' target=\"_blank\">effortless-sun-20</a></strong> to <a href='https://wandb.ai/crush_tarash/remark-gpt' target=\"_blank\">Weights & Biases</a> (<a href='https://wandb.me/developer-guide' target=\"_blank\">docs</a>)<br>"
            ]
          },
          "metadata": {}
        },
        {
          "output_type": "display_data",
          "data": {
            "text/plain": [
              "<IPython.core.display.HTML object>"
            ],
            "text/html": [
              " View project at <a href='https://wandb.ai/crush_tarash/remark-gpt' target=\"_blank\">https://wandb.ai/crush_tarash/remark-gpt</a>"
            ]
          },
          "metadata": {}
        },
        {
          "output_type": "display_data",
          "data": {
            "text/plain": [
              "<IPython.core.display.HTML object>"
            ],
            "text/html": [
              " View run at <a href='https://wandb.ai/crush_tarash/remark-gpt/runs/wuf282la' target=\"_blank\">https://wandb.ai/crush_tarash/remark-gpt/runs/wuf282la</a>"
            ]
          },
          "metadata": {}
        }
      ],
      "source": [
        "run = wandb.init(project=\"remark-gpt\", config=config)"
      ]
    },
    {
      "cell_type": "code",
      "source": [
        "def tokenize(text, token_to_id) -> list[int]:\n",
        "    return [token_to_id[ch] for ch in text]\n",
        "\n",
        "\n",
        "def decode(token_ids: list[int], id_to_token) -> str:\n",
        "    return \"\".join([id_to_token[token_id] for token_id in token_ids])\n",
        "\n",
        "\n",
        "def generate_text(\n",
        "    model,\n",
        "    token_to_id,\n",
        "    id_to_token,\n",
        "    prompt: str,\n",
        "    device: str,\n",
        "    window_size: int,\n",
        "    max_tokens: int = 10,\n",
        "    temperature: float = 1.0,\n",
        ") -> str:\n",
        "    \"\"\"Generate text using the trained GPT model.\"\"\"\n",
        "    model.eval()\n",
        "    context = tokenize(prompt, token_to_id)\n",
        "    generated = list(context)\n",
        "\n",
        "    with torch.no_grad():\n",
        "        for _ in range(max_tokens):\n",
        "            x = torch.tensor(context[-window_size:]).unsqueeze(0).to(device)\n",
        "            logits, _ = model(x)\n",
        "            logits = logits[0, -1, :] / temperature\n",
        "            probs = torch.softmax(logits, dim=-1)\n",
        "            next_token = torch.multinomial(probs, num_samples=1).item()\n",
        "            generated.append(next_token)\n",
        "            context = generated\n",
        "\n",
        "    return decode(context, id_to_token)\n",
        "\n",
        "\n",
        "class TextDataset(Dataset):\n",
        "    def __init__(self, path, context_window_size, token_to_id):\n",
        "        # Load dataset\n",
        "        with open(path, \"r\") as f:\n",
        "            lines = f.readlines()\n",
        "\n",
        "        text = \"\\n\".join(lines)\n",
        "\n",
        "        self.tokens = tokenize(text, token_to_id)\n",
        "\n",
        "        self.x = []\n",
        "        self.y = []\n",
        "        for i in range(len(self.tokens) - context_window_size):\n",
        "            self.x.append(self.tokens[i : i + context_window_size])\n",
        "            self.y.append(self.tokens[i + 1 : i + context_window_size + 1])\n",
        "\n",
        "    def __len__(self):\n",
        "        return len(self.x)\n",
        "\n",
        "    def __getitem__(self, idx):\n",
        "        return torch.tensor(self.x[idx]), torch.tensor(self.y[idx])\n"
      ],
      "metadata": {
        "id": "jN-m4tUlZLl2"
      },
      "execution_count": 8,
      "outputs": []
    },
    {
      "cell_type": "code",
      "execution_count": 9,
      "metadata": {
        "id": "1cqziIlWJvDS"
      },
      "outputs": [],
      "source": [
        "# Prepare tokenizer\n",
        "dataset_lines = []\n",
        "with open(\"dataset/The_Dream_Room_1920_AST_978-5-17-071518-3.txt\", \"r\") as f:\n",
        "    dataset_lines.extend(f.readlines())\n",
        "with open(\"dataset/Station_at_the_Horizon_1928_AST_978-5-17-133322-5.txt\", \"r\") as f:\n",
        "    dataset_lines.extend(f.readlines())\n",
        "with open(\"dataset/All_Quiet_on_the_Western_Front_1929_AST_978-5-17-105639-1.txt\", \"r\") as f:\n",
        "    dataset_lines.extend(f.readlines())\n",
        "with open(\"dataset/All_Quiet_on_the_Western_Front_1929_AST_978-5-17-137374-0.txt\", \"r\") as f:\n",
        "    dataset_lines.extend(f.readlines())\n",
        "text = \"\\n\".join(dataset_lines)\n",
        "tokens = sorted(set(text))\n",
        "id_to_token = {i: token for i, token in enumerate(tokens)}\n",
        "token_to_id = {token: i for i, token in enumerate(tokens)}\n",
        "\n",
        "train_ds1 = TextDataset(\n",
        "    \"dataset/The_Dream_Room_1920_AST_978-5-17-071518-3-train.txt\",\n",
        "    WINDOW_SIZE,\n",
        "    token_to_id,\n",
        ")\n",
        "train_ds2 = TextDataset(\n",
        "    \"dataset/Station_at_the_Horizon_1928_AST_978-5-17-133322-5.txt\",\n",
        "    WINDOW_SIZE,\n",
        "    token_to_id,\n",
        ")\n",
        "train_ds3 = TextDataset(\n",
        "    \"dataset/All_Quiet_on_the_Western_Front_1929_AST_978-5-17-105639-1-train.txt\",\n",
        "    WINDOW_SIZE,\n",
        "    token_to_id,\n",
        ")\n",
        "train_ds4 = TextDataset(\n",
        "    \"dataset/All_Quiet_on_the_Western_Front_1929_AST_978-5-17-137374-0-train.txt\",\n",
        "    WINDOW_SIZE,\n",
        "    token_to_id,\n",
        ")\n",
        "train_ds = ConcatDataset([train_ds1, train_ds2, train_ds3, train_ds4])\n",
        "train_dataloader = DataLoader(train_ds, batch_size=BATCH_SIZE, shuffle=True)\n",
        "\n",
        "dev_ds1 = TextDataset(\n",
        "    \"dataset/The_Dream_Room_1920_AST_978-5-17-071518-3-dev.txt\",\n",
        "    WINDOW_SIZE,\n",
        "    token_to_id,\n",
        ")\n",
        "dev_ds2 = TextDataset(\n",
        "    \"dataset/Station_at_the_Horizon_1928_AST_978-5-17-133322-5-dev.txt\",\n",
        "    WINDOW_SIZE,\n",
        "    token_to_id,\n",
        ")\n",
        "dev_ds3 = TextDataset(\n",
        "    \"dataset/All_Quiet_on_the_Western_Front_1929_AST_978-5-17-105639-1-dev.txt\",\n",
        "    WINDOW_SIZE,\n",
        "    token_to_id,\n",
        ")\n",
        "dev_ds4 = TextDataset(\n",
        "    \"dataset/All_Quiet_on_the_Western_Front_1929_AST_978-5-17-137374-0-dev.txt\",\n",
        "    WINDOW_SIZE,\n",
        "    token_to_id,\n",
        ")\n",
        "\n",
        "dev_dataloader1 = DataLoader(dev_ds1, batch_size=BATCH_SIZE, shuffle=False)\n",
        "dev_dataloader2 = DataLoader(dev_ds2, batch_size=BATCH_SIZE, shuffle=False)\n",
        "dev_dataloader3 = DataLoader(dev_ds3, batch_size=BATCH_SIZE, shuffle=False)\n",
        "dev_dataloader4 = DataLoader(dev_ds4, batch_size=BATCH_SIZE, shuffle=False)\n",
        "names_with_dev_dataloaders = [\n",
        "    (\"The_Dream_Room_1920_AST_978-5-17-071518-3\", dev_dataloader1),\n",
        "    (\"Station_at_the_Horizon_1928_AST_978-5-17-133322-5\", dev_dataloader2),\n",
        "    (\"All_Quiet_on_the_Western_Front_1929_AST_978-5-17-105639-1\", dev_dataloader3),\n",
        "    (\"All_Quiet_on_the_Western_Front_1929_AST_978-5-17-137374-0\", dev_dataloader4)\n",
        "    ]"
      ]
    },
    {
      "cell_type": "code",
      "source": [
        "# @title\n",
        "class GPTBlock(nn.Module):\n",
        "    def __init__(self, embedding_dim: int, max_len: int, dropout: float = 0.1):\n",
        "        # Attention\n",
        "        super().__init__()\n",
        "        self.Q = nn.Linear(embedding_dim, embedding_dim, bias=False)\n",
        "        self.K = nn.Linear(embedding_dim, embedding_dim, bias=False)\n",
        "        self.V = nn.Linear(embedding_dim, embedding_dim, bias=False)\n",
        "        self.kv_softmax = nn.Softmax(dim=-1)\n",
        "        self.attn_dropout = nn.Dropout(dropout)\n",
        "\n",
        "        # Feedforward\n",
        "        self.f1 = nn.Linear(embedding_dim, embedding_dim * 4)\n",
        "        self.f_act = nn.ReLU()\n",
        "        self.f2 = nn.Linear(embedding_dim * 4, embedding_dim)\n",
        "        self.ff_dropout = nn.Dropout(dropout)\n",
        "\n",
        "        self.register_buffer(\"tril\", torch.tril(torch.ones(max_len, max_len)))\n",
        "\n",
        "        self.ln1 = nn.LayerNorm(embedding_dim)\n",
        "        self.ln2 = nn.LayerNorm(embedding_dim)\n",
        "\n",
        "    def forward(self, inputs):\n",
        "\n",
        "        _, T, C = inputs.shape\n",
        "\n",
        "        norm_inputs = self.ln1(inputs)\n",
        "\n",
        "        q = self.Q(norm_inputs)\n",
        "        k = self.K(norm_inputs)\n",
        "        v = self.V(norm_inputs)\n",
        "\n",
        "        attention_weights = (q @ k.transpose(-1, -2)) / math.sqrt(C)  # shape: (B, T, T)\n",
        "        attention_weights_masked = attention_weights.masked_fill(\n",
        "            self.tril[:T, :T] == 0, -torch.inf\n",
        "        )\n",
        "        attention_scores = self.kv_softmax(attention_weights_masked)\n",
        "        attention_scores = self.attn_dropout(attention_scores)\n",
        "\n",
        "        new_v = attention_scores @ v + inputs\n",
        "\n",
        "        x = self.ln2(new_v)\n",
        "        x = self.ff_dropout(self.f2(self.f_act(self.f1(x)))) + x\n",
        "        return x\n",
        "\n",
        "\n",
        "class GPT(nn.Module):\n",
        "    def __init__(\n",
        "        self,\n",
        "        vocab_size: int,\n",
        "        max_len: int,\n",
        "        embedding_dim: int = 16,\n",
        "        blocks_num: int = 4,\n",
        "    ):\n",
        "        super().__init__()\n",
        "        self.vocab_size = vocab_size\n",
        "        self.embedding_dim = embedding_dim\n",
        "        self.emb = nn.Embedding(vocab_size, embedding_dim)\n",
        "        self.pos = nn.Embedding(max_len, embedding_dim)\n",
        "        self.blocks = nn.Sequential(\n",
        "            *[GPTBlock(embedding_dim, max_len) for _ in range(blocks_num)]\n",
        "        )\n",
        "        self.proj = nn.Linear(embedding_dim, vocab_size)\n",
        "        self.loss_fn = nn.CrossEntropyLoss()\n",
        "\n",
        "    def forward(self, inputs, labels=None):\n",
        "        _, T = inputs.shape\n",
        "        embs = self.emb(inputs)\n",
        "        pos_embs = self.pos(torch.arange(T, device=device))  # (T,C)\n",
        "        blocks_output = self.blocks(embs + pos_embs)\n",
        "        logits = self.proj(blocks_output)  # (B,T,vocab_size)\n",
        "        if labels is not None:\n",
        "            loss = self.loss_fn(logits.view(-1, self.vocab_size), labels.view(-1))\n",
        "            return logits, loss\n",
        "        else:\n",
        "            return logits, None\n"
      ],
      "metadata": {
        "id": "hF-56wiUZteN",
        "cellView": "form"
      },
      "execution_count": 10,
      "outputs": []
    },
    {
      "cell_type": "code",
      "execution_count": 11,
      "metadata": {
        "id": "pnf4aP9ywkjD"
      },
      "outputs": [],
      "source": [
        "model = GPT(vocab_size=len(tokens), max_len=WINDOW_SIZE, embedding_dim=32, blocks_num=6)\n",
        "model.to(device)\n",
        "\n",
        "optimizer = torch.optim.AdamW(model.parameters(), lr=LR)"
      ]
    },
    {
      "cell_type": "code",
      "execution_count": 12,
      "metadata": {
        "id": "HOZUqcOnwlIy"
      },
      "outputs": [],
      "source": [
        "wandb.watch(model, log_freq=2500, log='all')"
      ]
    },
    {
      "cell_type": "code",
      "execution_count": null,
      "metadata": {
        "id": "uSeQTdOowrhS",
        "colab": {
          "base_uri": "https://localhost:8080/"
        },
        "outputId": "c2f51231-6fd6-4340-8e79-19af6f4f816e"
      },
      "outputs": [
        {
          "output_type": "stream",
          "name": "stderr",
          "text": [
            "100%|██████████| 33451/33451 [02:02<00:00, 273.13it/s]"
          ]
        },
        {
          "output_type": "stream",
          "name": "stdout",
          "text": [
            "initial train loss: 4.567, with expected of 4.304\n"
          ]
        },
        {
          "output_type": "stream",
          "name": "stderr",
          "text": [
            "\n"
          ]
        }
      ],
      "source": [
        "model.train()\n",
        "epoch_loss = 0\n",
        "steps_n = 0\n",
        "with torch.no_grad():\n",
        "    for batch in tqdm(train_dataloader):\n",
        "        input, labels = batch[0].to(device), batch[1].to(device)\n",
        "        output, loss = model(input, labels)\n",
        "        epoch_loss += loss.item()\n",
        "        steps_n += 1\n",
        "    avg_loss = epoch_loss / steps_n\n",
        "expected_init_loss = -math.log(1 / len(tokens))\n",
        "print(f\"initial train loss: {avg_loss:.3f}, with expected of {expected_init_loss:.3f}\")"
      ]
    },
    {
      "cell_type": "code",
      "execution_count": null,
      "metadata": {
        "id": "fC3-JgvRwhxz"
      },
      "outputs": [],
      "source": [
        "for epoch in range(EPOCHS):\n",
        "    model.train()\n",
        "    epoch_loss = 0\n",
        "    steps_n = 0\n",
        "\n",
        "    for batch in tqdm(train_dataloader):\n",
        "        input, labels = batch[0].to(device), batch[1].to(device)\n",
        "        output, loss = model(input, labels)\n",
        "        loss.backward()\n",
        "        optimizer.step()\n",
        "        optimizer.zero_grad()\n",
        "        epoch_loss += loss.item()\n",
        "        steps_n += 1\n",
        "        run.log({\"train_loss\": loss.item()})\n",
        "\n",
        "    avg_loss = epoch_loss / steps_n\n",
        "    print(f\"epoch {epoch} train loss: {avg_loss:.3f}\")\n",
        "\n",
        "    model.eval()\n",
        "    with torch.no_grad():\n",
        "        for ds_name, dev_dataloader in names_with_dev_dataloaders:\n",
        "            val_steps_n = 0\n",
        "            val_epoch_loss = 0\n",
        "            for batch in tqdm(dev_dataloader):\n",
        "                input, labels = batch[0].to(device), batch[1].to(device)\n",
        "                output, loss = model(input, labels)\n",
        "                val_epoch_loss += loss.item()\n",
        "                val_steps_n += 1\n",
        "            avg_val_loss = val_epoch_loss / val_steps_n\n",
        "            print(f\"epoch {epoch} val loss for {ds_name}: {avg_val_loss:.3f}\")\n",
        "            metric_name = f\"avg_val_loss_{ds_name}\"\n",
        "            run.log({metric_name: avg_val_loss}, commit=False)\n",
        "\n",
        "    run.log({\"avg_train_loss\": avg_loss})"
      ]
    },
    {
      "cell_type": "code",
      "execution_count": 14,
      "metadata": {
        "id": "e9eYiDoFRIou"
      },
      "outputs": [],
      "source": [
        "torch.save(model.state_dict(), \"model/gpt.pt\")"
      ]
    },
    {
      "cell_type": "code",
      "execution_count": 15,
      "metadata": {
        "id": "300VB3stx_Ds",
        "colab": {
          "base_uri": "https://localhost:8080/"
        },
        "outputId": "06573021-1404-44c7-8554-1904a0501d41"
      },
      "outputs": [
        {
          "output_type": "execute_result",
          "data": {
            "text/plain": [
              "<Artifact model>"
            ]
          },
          "metadata": {},
          "execution_count": 15
        }
      ],
      "source": [
        "artifact = wandb.Artifact(\"model\", type=\"model\")\n",
        "artifact.add_file(\"model/gpt.pt\")\n",
        "run.log_artifact(artifact)"
      ]
    },
    {
      "cell_type": "code",
      "execution_count": 26,
      "metadata": {
        "id": "G5ytmLzkx_Ds",
        "colab": {
          "base_uri": "https://localhost:8080/",
          "height": 533
        },
        "outputId": "c3ca4af4-08bc-43fc-c6bb-b7e2ae90c98d"
      },
      "outputs": [
        {
          "output_type": "display_data",
          "data": {
            "text/plain": [
              "<IPython.core.display.HTML object>"
            ],
            "text/html": []
          },
          "metadata": {}
        },
        {
          "output_type": "display_data",
          "data": {
            "text/plain": [
              "<IPython.core.display.HTML object>"
            ],
            "text/html": [
              "<br>    <style><br>        .wandb-row {<br>            display: flex;<br>            flex-direction: row;<br>            flex-wrap: wrap;<br>            justify-content: flex-start;<br>            width: 100%;<br>        }<br>        .wandb-col {<br>            display: flex;<br>            flex-direction: column;<br>            flex-basis: 100%;<br>            flex: 1;<br>            padding: 10px;<br>        }<br>    </style><br><div class=\"wandb-row\"><div class=\"wandb-col\"><h3>Run history:</h3><br/><table class=\"wandb\"><tr><td>avg_train_loss</td><td>█▃▂▁▁</td></tr><tr><td>avg_val_loss_All_Quiet_on_the_Western_Front_1929_AST_978-5-17-105639-1</td><td>█▄▃▁▁</td></tr><tr><td>avg_val_loss_All_Quiet_on_the_Western_Front_1929_AST_978-5-17-137374-0</td><td>█▄▃▂▁</td></tr><tr><td>avg_val_loss_Station_at_the_Horizon_1928_AST_978-5-17-133322-5</td><td>█▅▃▂▁</td></tr><tr><td>avg_val_loss_The_Dream_Room_1920_AST_978-5-17-071518-3</td><td>█▅▃▂▁</td></tr><tr><td>train_loss</td><td>█▄▄▄▃▃▃▃▂▂▂▂▂▂▂▂▂▂▂▂▂▁▂▂▂▁▂▁▂▂▂▁▂▁▂▂▁▂▂▁</td></tr></table><br/></div><div class=\"wandb-col\"><h3>Run summary:</h3><br/><table class=\"wandb\"><tr><td>avg_train_loss</td><td>1.82631</td></tr><tr><td>avg_val_loss_All_Quiet_on_the_Western_Front_1929_AST_978-5-17-105639-1</td><td>1.84243</td></tr><tr><td>avg_val_loss_All_Quiet_on_the_Western_Front_1929_AST_978-5-17-137374-0</td><td>1.75173</td></tr><tr><td>avg_val_loss_Station_at_the_Horizon_1928_AST_978-5-17-133322-5</td><td>1.65547</td></tr><tr><td>avg_val_loss_The_Dream_Room_1920_AST_978-5-17-071518-3</td><td>1.79389</td></tr><tr><td>train_loss</td><td>1.85824</td></tr></table><br/></div></div>"
            ]
          },
          "metadata": {}
        },
        {
          "output_type": "display_data",
          "data": {
            "text/plain": [
              "<IPython.core.display.HTML object>"
            ],
            "text/html": [
              " View run <strong style=\"color:#cdcd00\">effortless-sun-20</strong> at: <a href='https://wandb.ai/crush_tarash/remark-gpt/runs/wuf282la' target=\"_blank\">https://wandb.ai/crush_tarash/remark-gpt/runs/wuf282la</a><br> View project at: <a href='https://wandb.ai/crush_tarash/remark-gpt' target=\"_blank\">https://wandb.ai/crush_tarash/remark-gpt</a><br>Synced 5 W&B file(s), 0 media file(s), 2 artifact file(s) and 0 other file(s)"
            ]
          },
          "metadata": {}
        },
        {
          "output_type": "display_data",
          "data": {
            "text/plain": [
              "<IPython.core.display.HTML object>"
            ],
            "text/html": [
              "Find logs at: <code>./wandb/run-20250102_102313-wuf282la/logs</code>"
            ]
          },
          "metadata": {}
        }
      ],
      "source": [
        "wandb.finish()"
      ]
    },
    {
      "cell_type": "code",
      "execution_count": 25,
      "metadata": {
        "id": "vsBjFtlUx_Ds",
        "colab": {
          "base_uri": "https://localhost:8080/"
        },
        "outputId": "da510d7b-2bea-4964-e04e-acf2ee14d644"
      },
      "outputs": [
        {
          "output_type": "stream",
          "name": "stdout",
          "text": [
            "Кай больше ничего не сказал. В Генуе он расстался с Курбиссоном и забрал свою пробольшейся то и в нем заботелось воспом в линан по нашей продолжать во приседал на кромен, не человек в конкой собой нас над он после в конце. Противный окопом обольше он принялись и собой не полож\n"
          ]
        }
      ],
      "source": [
        "model.eval()\n",
        "prompt = \"Кай больше ничего не сказал. В Генуе он расстался с Курбиссоном и забрал свою\"\n",
        "generated_text = generate_text(\n",
        "    model,\n",
        "    token_to_id,\n",
        "    id_to_token,\n",
        "    prompt,\n",
        "    device,\n",
        "    window_size=WINDOW_SIZE,\n",
        "    max_tokens=200,\n",
        "    temperature=0.5\n",
        ")\n",
        "print(generated_text)"
      ]
    },
    {
      "cell_type": "code",
      "source": [],
      "metadata": {
        "id": "z8DBnPUrme3P"
      },
      "execution_count": null,
      "outputs": []
    }
  ],
  "metadata": {
    "accelerator": "GPU",
    "colab": {
      "gpuType": "A100",
      "machine_shape": "hm",
      "provenance": [],
      "include_colab_link": true
    },
    "kernelspec": {
      "display_name": "Python 3",
      "name": "python3"
    },
    "language_info": {
      "name": "python"
    }
  },
  "nbformat": 4,
  "nbformat_minor": 0
}